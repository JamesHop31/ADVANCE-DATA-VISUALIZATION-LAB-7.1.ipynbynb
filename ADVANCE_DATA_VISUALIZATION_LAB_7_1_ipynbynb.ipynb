{
  "nbformat": 4,
  "nbformat_minor": 0,
  "metadata": {
    "colab": {
      "provenance": [],
      "authorship_tag": "ABX9TyPzfyUMoT7SrF8kEPmH+qaB",
      "include_colab_link": true
    },
    "kernelspec": {
      "name": "python3",
      "display_name": "Python 3"
    },
    "language_info": {
      "name": "python"
    }
  },
  "cells": [
    {
      "cell_type": "markdown",
      "metadata": {
        "id": "view-in-github",
        "colab_type": "text"
      },
      "source": [
        "<a href=\"https://colab.research.google.com/github/JamesHop31/ADVANCE-DATA-VISUALIZATION-LAB-7.1.ipynbynb/blob/main/ADVANCE_DATA_VISUALIZATION_LAB_7_1_ipynbynb.ipynb\" target=\"_parent\"><img src=\"https://colab.research.google.com/assets/colab-badge.svg\" alt=\"Open In Colab\"/></a>"
      ]
    },
    {
      "cell_type": "code",
      "execution_count": 9,
      "metadata": {
        "colab": {
          "base_uri": "https://localhost:8080/"
        },
        "id": "72-_yo1qp7Ng",
        "outputId": "f7782814-e143-41ea-e520-8060f3a6884f"
      },
      "outputs": [
        {
          "output_type": "stream",
          "name": "stdout",
          "text": [
            "What is the temperature outside? : 29\n",
            "the temperature is good today\n",
            "can go outside!\n"
          ]
        }
      ],
      "source": [
        "temp = int(input(\"What is the temperature outside? : \"))\n",
        "\n",
        "if temp >= 0 and temp <= 30: \n",
        "  print(\"the temperature is good today\") \n",
        "  print(\"can go outside!\")"
      ]
    }
  ]
}